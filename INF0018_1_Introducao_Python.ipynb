{
  "nbformat": 4,
  "nbformat_minor": 0,
  "metadata": {
    "colab": {
      "name": "INF0018_1_Introducao_Python.ipynb",
      "provenance": [],
      "collapsed_sections": [],
      "authorship_tag": "ABX9TyPx0R+1v1m/d8plYuJEqM1f",
      "include_colab_link": true
    },
    "kernelspec": {
      "name": "python3",
      "display_name": "Python 3"
    }
  },
  "cells": [
    {
      "cell_type": "markdown",
      "metadata": {
        "id": "view-in-github",
        "colab_type": "text"
      },
      "source": [
        "<a href=\"https://colab.research.google.com/github/gbnegrini/monitoria-processamento-imagens/blob/main/INF0018_1_Introducao_Python.ipynb\" target=\"_parent\"><img src=\"https://colab.research.google.com/assets/colab-badge.svg\" alt=\"Open In Colab\"/></a>"
      ]
    },
    {
      "cell_type": "markdown",
      "metadata": {
        "id": "jFd1oP-uNMdU"
      },
      "source": [
        "# <center> Introdução ao Processamento Digital de Imagens (INF0018) </center>\r\n",
        "## <center> Curso de Informática Biomédica - UFCSPA </center>"
      ]
    },
    {
      "cell_type": "markdown",
      "metadata": {
        "id": "qwMlcVb8NPu-"
      },
      "source": [
        "## Material de apoio\r\n",
        "### Monitor: Guilherme Bauer Negrini (guilhermebn@ufcspa.edu.br)"
      ]
    },
    {
      "cell_type": "markdown",
      "metadata": {
        "id": "JWNCrIeTPPIY"
      },
      "source": [
        "# Algumas considerações"
      ]
    },
    {
      "cell_type": "markdown",
      "metadata": {
        "id": "IODID4erNhI1"
      },
      "source": [
        "Olá, pessoal!\r\n",
        "\r\n",
        "\\\r\n",
        "\r\n",
        "Por favor, notem que esse material é uma introdução muito básica à linguagem Python. São demonstrados apenas alguns conceitos necessários para a disciplina, considerando que vocês possuem conhecimento de lógica de programação.\r\n",
        "\r\n",
        "**Ao final do material estão alguns links complementares** para quem tiver mais interesse ou sentir a necessidade, ok?\r\n",
        "\r\n",
        "\\\r\n",
        "Sugiro fortemente que utilizem o ambiente do Google Colab para a disciplina. Há quem ame e há quem odeie o uso de Notebooks (Colab, Jupyter) e seu uso é certamente inapropriado em muitos casos, porém vai facilitar bastante na disciplina. O ambiente do Colab elimina a necessidade de instalação local, já vem com quase todas as bibliotecas necessárias, está em Python 3 e facilita o compartilhamento do código.\r\n",
        "\r\n"
      ]
    },
    {
      "cell_type": "markdown",
      "metadata": {
        "id": "_CPqwNjFUYBY"
      },
      "source": [
        "### Observação master antes de começar: identação do código é obrigatória em Python!\r\n",
        "\r\n",
        "___________________"
      ]
    },
    {
      "cell_type": "markdown",
      "metadata": {
        "id": "EgR2LGqiOkdZ"
      },
      "source": [
        "# Tipos de dados"
      ]
    },
    {
      "cell_type": "markdown",
      "metadata": {
        "id": "Lq1DeU49OosV"
      },
      "source": [
        "## Números"
      ]
    },
    {
      "cell_type": "code",
      "metadata": {
        "colab": {
          "base_uri": "https://localhost:8080/"
        },
        "id": "RzZEPapsOms_",
        "outputId": "a63d5f43-bcba-4306-b771-73a21666c9a5"
      },
      "source": [
        "1 + 1"
      ],
      "execution_count": null,
      "outputs": [
        {
          "output_type": "execute_result",
          "data": {
            "text/plain": [
              "2"
            ]
          },
          "metadata": {
            "tags": []
          },
          "execution_count": 1
        }
      ]
    },
    {
      "cell_type": "code",
      "metadata": {
        "colab": {
          "base_uri": "https://localhost:8080/"
        },
        "id": "CqopBZw_Mzh2",
        "outputId": "50996019-23b8-48f9-cbaf-a768d0694bd6"
      },
      "source": [
        "2.5 + 2.3"
      ],
      "execution_count": null,
      "outputs": [
        {
          "output_type": "execute_result",
          "data": {
            "text/plain": [
              "4.8"
            ]
          },
          "metadata": {
            "tags": []
          },
          "execution_count": 2
        }
      ]
    },
    {
      "cell_type": "code",
      "metadata": {
        "colab": {
          "base_uri": "https://localhost:8080/"
        },
        "id": "53dYaL9vab7h",
        "outputId": "108ca77a-faae-494d-f636-3c0ff9512877"
      },
      "source": [
        "2**3"
      ],
      "execution_count": null,
      "outputs": [
        {
          "output_type": "execute_result",
          "data": {
            "text/plain": [
              "8"
            ]
          },
          "metadata": {
            "tags": []
          },
          "execution_count": 3
        }
      ]
    },
    {
      "cell_type": "markdown",
      "metadata": {
        "id": "1WotCwe-OywF"
      },
      "source": [
        "## Strings"
      ]
    },
    {
      "cell_type": "code",
      "metadata": {
        "colab": {
          "base_uri": "https://localhost:8080/",
          "height": 35
        },
        "id": "Qvq2CZc4Ou4E",
        "outputId": "f0c97e9d-44b8-4b12-f6c9-17d79a166432"
      },
      "source": [
        "\"Uma string pode ser delimitada por aspas duplas\""
      ],
      "execution_count": null,
      "outputs": [
        {
          "output_type": "execute_result",
          "data": {
            "application/vnd.google.colaboratory.intrinsic+json": {
              "type": "string"
            },
            "text/plain": [
              "'Uma string pode ser delimitada por aspas duplas'"
            ]
          },
          "metadata": {
            "tags": []
          },
          "execution_count": 4
        }
      ]
    },
    {
      "cell_type": "code",
      "metadata": {
        "colab": {
          "base_uri": "https://localhost:8080/",
          "height": 35
        },
        "id": "wTMXu5xUO4X3",
        "outputId": "ff4f6fe0-4ada-406a-fa67-b7ab6596816c"
      },
      "source": [
        "'E também pode ser delimitada por aspas simples'"
      ],
      "execution_count": null,
      "outputs": [
        {
          "output_type": "execute_result",
          "data": {
            "application/vnd.google.colaboratory.intrinsic+json": {
              "type": "string"
            },
            "text/plain": [
              "'E também pode ser delimitada por aspas simples'"
            ]
          },
          "metadata": {
            "tags": []
          },
          "execution_count": 5
        }
      ]
    },
    {
      "cell_type": "markdown",
      "metadata": {
        "id": "TmdRo5lcPGNJ"
      },
      "source": [
        "## Listas"
      ]
    },
    {
      "cell_type": "markdown",
      "metadata": {
        "id": "wZE8LXIuQpXM"
      },
      "source": [
        "Listas são sequências mutáveis de objetos. São **semelhantes** aos arrays/vetores de outras linguagens.\r\n",
        "\r\n",
        "Algumas manipulações com listas são demonstradas no final desse material."
      ]
    },
    {
      "cell_type": "code",
      "metadata": {
        "colab": {
          "base_uri": "https://localhost:8080/"
        },
        "id": "4VLuMNkpO9zB",
        "outputId": "279a5917-70e7-43d5-c3c5-f1c5f7a19c49"
      },
      "source": [
        "[1,2,3]"
      ],
      "execution_count": null,
      "outputs": [
        {
          "output_type": "execute_result",
          "data": {
            "text/plain": [
              "[1, 2, 3]"
            ]
          },
          "metadata": {
            "tags": []
          },
          "execution_count": 6
        }
      ]
    },
    {
      "cell_type": "code",
      "metadata": {
        "colab": {
          "base_uri": "https://localhost:8080/"
        },
        "id": "w7MkK5hORLGG",
        "outputId": "bb33fb7f-963f-40e5-f2a8-ce99baa765f9"
      },
      "source": [
        "[\"Python\", \"Java\"]"
      ],
      "execution_count": null,
      "outputs": [
        {
          "output_type": "execute_result",
          "data": {
            "text/plain": [
              "['Python', 'Java']"
            ]
          },
          "metadata": {
            "tags": []
          },
          "execution_count": 7
        }
      ]
    },
    {
      "cell_type": "code",
      "metadata": {
        "colab": {
          "base_uri": "https://localhost:8080/"
        },
        "id": "GpAbvGXGRSWS",
        "outputId": "a041d220-7fa2-4008-cc60-b329d0e7d62e"
      },
      "source": [
        "[\"Python\", 5, 6.2, [2,\"Java\"]]"
      ],
      "execution_count": null,
      "outputs": [
        {
          "output_type": "execute_result",
          "data": {
            "text/plain": [
              "['Python', 5, 6.2, [2, 'Java']]"
            ]
          },
          "metadata": {
            "tags": []
          },
          "execution_count": 8
        }
      ]
    },
    {
      "cell_type": "markdown",
      "metadata": {
        "id": "2cDUmv8DRheY"
      },
      "source": [
        "## Atribuição de variáveis"
      ]
    },
    {
      "cell_type": "markdown",
      "metadata": {
        "id": "MXh-tII5RxRy"
      },
      "source": [
        "A linguagem Python trabalha com tipagem dinâmica, não exigindo declaração de tipo ao se criar uma variável. Note, porém, que as variáveis possuem tipos bem definidos!"
      ]
    },
    {
      "cell_type": "code",
      "metadata": {
        "colab": {
          "base_uri": "https://localhost:8080/"
        },
        "id": "ljpeilbPRjTI",
        "outputId": "71422f33-a637-406a-a0f6-d0207f46c098"
      },
      "source": [
        "a = 5\r\n",
        "type(a)"
      ],
      "execution_count": null,
      "outputs": [
        {
          "output_type": "execute_result",
          "data": {
            "text/plain": [
              "int"
            ]
          },
          "metadata": {
            "tags": []
          },
          "execution_count": 9
        }
      ]
    },
    {
      "cell_type": "code",
      "metadata": {
        "colab": {
          "base_uri": "https://localhost:8080/"
        },
        "id": "Sa0qpOhOSWI8",
        "outputId": "f29064df-1b33-49de-b621-82711475a2ea"
      },
      "source": [
        "a = \"Informática Biomédica\"\r\n",
        "type(a)"
      ],
      "execution_count": null,
      "outputs": [
        {
          "output_type": "execute_result",
          "data": {
            "text/plain": [
              "str"
            ]
          },
          "metadata": {
            "tags": []
          },
          "execution_count": 10
        }
      ]
    },
    {
      "cell_type": "code",
      "metadata": {
        "colab": {
          "base_uri": "https://localhost:8080/"
        },
        "id": "gMgnX0bDyvKU",
        "outputId": "93e5f2b5-095e-457f-de99-2c24abb04179"
      },
      "source": [
        "a = [\"Minha\", \"lista\", \"de\", \"palavras\"]\r\n",
        "type(a)"
      ],
      "execution_count": null,
      "outputs": [
        {
          "output_type": "execute_result",
          "data": {
            "text/plain": [
              "list"
            ]
          },
          "metadata": {
            "tags": []
          },
          "execution_count": 11
        }
      ]
    },
    {
      "cell_type": "markdown",
      "metadata": {
        "id": "yM6s54bYU7l-"
      },
      "source": [
        "## Print"
      ]
    },
    {
      "cell_type": "code",
      "metadata": {
        "colab": {
          "base_uri": "https://localhost:8080/"
        },
        "id": "R9snjtbsUovL",
        "outputId": "8c5d4e5e-7387-4eef-9bb7-6102d9a58f09"
      },
      "source": [
        "nome = \"Darcy Nusite\"\r\n",
        "print(f\"Olá {nome}, tudo bem?\")\r\n",
        "print(\"Olá \" + nome + \", tudo bem?\")\r\n",
        "print(\"Olá\", nome, \", tudo bem?\")"
      ],
      "execution_count": null,
      "outputs": [
        {
          "output_type": "stream",
          "text": [
            "Olá Darcy Nusite, tudo bem?\n",
            "Olá Darcy Nusite, tudo bem?\n",
            "Olá Darcy Nusite , tudo bem?\n"
          ],
          "name": "stdout"
        }
      ]
    },
    {
      "cell_type": "markdown",
      "metadata": {
        "id": "hTOWZv7qThr4"
      },
      "source": [
        "## Operadores de comparação"
      ]
    },
    {
      "cell_type": "code",
      "metadata": {
        "colab": {
          "base_uri": "https://localhost:8080/"
        },
        "id": "qaT0iPafSW__",
        "outputId": "4866d115-e434-4c44-d7a1-379bab483f20"
      },
      "source": [
        "1 < 2"
      ],
      "execution_count": null,
      "outputs": [
        {
          "output_type": "execute_result",
          "data": {
            "text/plain": [
              "True"
            ]
          },
          "metadata": {
            "tags": []
          },
          "execution_count": 13
        }
      ]
    },
    {
      "cell_type": "code",
      "metadata": {
        "colab": {
          "base_uri": "https://localhost:8080/"
        },
        "id": "5nT6VStGTkVS",
        "outputId": "0492f72c-82a4-47aa-9d1b-2ba97933e8bc"
      },
      "source": [
        "2 > 4"
      ],
      "execution_count": null,
      "outputs": [
        {
          "output_type": "execute_result",
          "data": {
            "text/plain": [
              "False"
            ]
          },
          "metadata": {
            "tags": []
          },
          "execution_count": 14
        }
      ]
    },
    {
      "cell_type": "code",
      "metadata": {
        "colab": {
          "base_uri": "https://localhost:8080/"
        },
        "id": "eXcMZ9JDTmRP",
        "outputId": "a167b279-8c2e-4655-aebd-4f359b55b650"
      },
      "source": [
        "2 == 2"
      ],
      "execution_count": null,
      "outputs": [
        {
          "output_type": "execute_result",
          "data": {
            "text/plain": [
              "True"
            ]
          },
          "metadata": {
            "tags": []
          },
          "execution_count": 15
        }
      ]
    },
    {
      "cell_type": "code",
      "metadata": {
        "colab": {
          "base_uri": "https://localhost:8080/"
        },
        "id": "sEdAHfI5Tyn9",
        "outputId": "afda6cd7-d052-445e-afce-89289db6d14c"
      },
      "source": [
        "[0, 3] == [0, 2]"
      ],
      "execution_count": null,
      "outputs": [
        {
          "output_type": "execute_result",
          "data": {
            "text/plain": [
              "False"
            ]
          },
          "metadata": {
            "tags": []
          },
          "execution_count": 16
        }
      ]
    },
    {
      "cell_type": "code",
      "metadata": {
        "colab": {
          "base_uri": "https://localhost:8080/"
        },
        "id": "opkNXzbHTnQh",
        "outputId": "978d0ece-9cb6-4202-b71c-365b7b33e13a"
      },
      "source": [
        "2 != 3"
      ],
      "execution_count": null,
      "outputs": [
        {
          "output_type": "execute_result",
          "data": {
            "text/plain": [
              "True"
            ]
          },
          "metadata": {
            "tags": []
          },
          "execution_count": 17
        }
      ]
    },
    {
      "cell_type": "code",
      "metadata": {
        "colab": {
          "base_uri": "https://localhost:8080/"
        },
        "id": "9AFXJdG5Tppd",
        "outputId": "4314be63-4410-492b-b05d-34303694fb38"
      },
      "source": [
        "2 <= 2"
      ],
      "execution_count": null,
      "outputs": [
        {
          "output_type": "execute_result",
          "data": {
            "text/plain": [
              "True"
            ]
          },
          "metadata": {
            "tags": []
          },
          "execution_count": 18
        }
      ]
    },
    {
      "cell_type": "code",
      "metadata": {
        "colab": {
          "base_uri": "https://localhost:8080/"
        },
        "id": "h7xPEih8Ts8G",
        "outputId": "c683f7fd-563a-4400-c933-b660de0dea8b"
      },
      "source": [
        "2 >= 5"
      ],
      "execution_count": null,
      "outputs": [
        {
          "output_type": "execute_result",
          "data": {
            "text/plain": [
              "False"
            ]
          },
          "metadata": {
            "tags": []
          },
          "execution_count": 19
        }
      ]
    },
    {
      "cell_type": "markdown",
      "metadata": {
        "id": "OGSNFf8zT64i"
      },
      "source": [
        "## Operadores lógicos"
      ]
    },
    {
      "cell_type": "code",
      "metadata": {
        "colab": {
          "base_uri": "https://localhost:8080/"
        },
        "id": "ReCOqpv1TuYK",
        "outputId": "970ddcb2-8743-40f1-e069-5fbbb4236104"
      },
      "source": [
        "(1 > 2) and (2 < 3)"
      ],
      "execution_count": null,
      "outputs": [
        {
          "output_type": "execute_result",
          "data": {
            "text/plain": [
              "False"
            ]
          },
          "metadata": {
            "tags": []
          },
          "execution_count": 20
        }
      ]
    },
    {
      "cell_type": "code",
      "metadata": {
        "colab": {
          "base_uri": "https://localhost:8080/"
        },
        "id": "dlHKEkrIUEIE",
        "outputId": "1662118a-e826-4577-b09d-c687f6697e79"
      },
      "source": [
        "(1 > 2) or (2 < 3)"
      ],
      "execution_count": null,
      "outputs": [
        {
          "output_type": "execute_result",
          "data": {
            "text/plain": [
              "True"
            ]
          },
          "metadata": {
            "tags": []
          },
          "execution_count": 21
        }
      ]
    },
    {
      "cell_type": "markdown",
      "metadata": {
        "id": "Zv8IOLJiURLq"
      },
      "source": [
        "## Operadores condicionais"
      ]
    },
    {
      "cell_type": "code",
      "metadata": {
        "colab": {
          "base_uri": "https://localhost:8080/"
        },
        "id": "-iWq_fbeUGnt",
        "outputId": "c5662b09-4765-41f4-e4d4-97241db4e2d8"
      },
      "source": [
        "linguagem_favorita = \"Python\"\r\n",
        "\r\n",
        "if linguagem_favorita == \"Python\":\r\n",
        "    print(\"Show de bola\")"
      ],
      "execution_count": null,
      "outputs": [
        {
          "output_type": "stream",
          "text": [
            "Show de bola\n"
          ],
          "name": "stdout"
        }
      ]
    },
    {
      "cell_type": "code",
      "metadata": {
        "colab": {
          "base_uri": "https://localhost:8080/"
        },
        "id": "AesilsafVqj3",
        "outputId": "f5b251b2-ecad-4269-a860-568383f9f86c"
      },
      "source": [
        "linguagem_favorita = \"R\"\r\n",
        "\r\n",
        "if linguagem_favorita == \"Python\":\r\n",
        "    print(\"Show de bola\")\r\n",
        "else:\r\n",
        "    print(\"Que pena!\")"
      ],
      "execution_count": null,
      "outputs": [
        {
          "output_type": "stream",
          "text": [
            "Que pena!\n"
          ],
          "name": "stdout"
        }
      ]
    },
    {
      "cell_type": "code",
      "metadata": {
        "colab": {
          "base_uri": "https://localhost:8080/"
        },
        "id": "vFV9s1uqWBFv",
        "outputId": "f548f57f-863e-4ff5-f2a9-6f4817cc8849"
      },
      "source": [
        "linguagem_favorita = \"R\"\r\n",
        "\r\n",
        "if linguagem_favorita == \"Python\":\r\n",
        "    print(\"Show de bola\")\r\n",
        "elif linguagem_favorita == \"R\":\r\n",
        "    print(\"Supimpa\")\r\n",
        "else:\r\n",
        "    print(\"Que pena!\")"
      ],
      "execution_count": null,
      "outputs": [
        {
          "output_type": "stream",
          "text": [
            "Supimpa\n"
          ],
          "name": "stdout"
        }
      ]
    },
    {
      "cell_type": "markdown",
      "metadata": {
        "id": "l4WVJ4ScW2Ki"
      },
      "source": [
        "## Loops"
      ]
    },
    {
      "cell_type": "markdown",
      "metadata": {
        "id": "HePwZhOCW4G3"
      },
      "source": [
        "### for"
      ]
    },
    {
      "cell_type": "code",
      "metadata": {
        "colab": {
          "base_uri": "https://localhost:8080/"
        },
        "id": "yr_DzSrfV_28",
        "outputId": "21495ca4-44f5-4e45-ab51-a39960be9f00"
      },
      "source": [
        "cursos = [\"Informática Biomédica\", \"Física Médica\", \"Medicina\", \"Biomedicina\"]\r\n",
        "\r\n",
        "for curso in cursos:\r\n",
        "    print(curso)"
      ],
      "execution_count": null,
      "outputs": [
        {
          "output_type": "stream",
          "text": [
            "Informática Biomédica\n",
            "Física Médica\n",
            "Medicina\n",
            "Biomedicina\n"
          ],
          "name": "stdout"
        }
      ]
    },
    {
      "cell_type": "code",
      "metadata": {
        "colab": {
          "base_uri": "https://localhost:8080/"
        },
        "id": "q57Nb0vXXHm9",
        "outputId": "dd1807bd-975a-41be-bcca-30a056767761"
      },
      "source": [
        "for numero in range(0, 10):\r\n",
        "    print(numero)"
      ],
      "execution_count": null,
      "outputs": [
        {
          "output_type": "stream",
          "text": [
            "0\n",
            "1\n",
            "2\n",
            "3\n",
            "4\n",
            "5\n",
            "6\n",
            "7\n",
            "8\n",
            "9\n"
          ],
          "name": "stdout"
        }
      ]
    },
    {
      "cell_type": "markdown",
      "metadata": {
        "id": "zOkNYLRGXYh7"
      },
      "source": [
        "### while"
      ]
    },
    {
      "cell_type": "code",
      "metadata": {
        "colab": {
          "base_uri": "https://localhost:8080/"
        },
        "id": "dTkPYDMzXNu2",
        "outputId": "6f31c6f3-4bfb-4ef4-8520-2d17e8b23bfc"
      },
      "source": [
        "i = 0\r\n",
        "while i < 5:\r\n",
        "    print(i)\r\n",
        "    i = i+1"
      ],
      "execution_count": null,
      "outputs": [
        {
          "output_type": "stream",
          "text": [
            "0\n",
            "1\n",
            "2\n",
            "3\n",
            "4\n"
          ],
          "name": "stdout"
        }
      ]
    },
    {
      "cell_type": "markdown",
      "metadata": {
        "id": "Z0tgmZ2eXs97"
      },
      "source": [
        "## Funções"
      ]
    },
    {
      "cell_type": "code",
      "metadata": {
        "colab": {
          "base_uri": "https://localhost:8080/"
        },
        "id": "01P1sV8XXhU8",
        "outputId": "845f9f71-777b-4bbb-e9f4-9f7053d54fae"
      },
      "source": [
        "def minha_funcao_de_soma(a, b):\r\n",
        "    return a + b\r\n",
        "\r\n",
        "minha_funcao_de_soma(2,3)"
      ],
      "execution_count": null,
      "outputs": [
        {
          "output_type": "execute_result",
          "data": {
            "text/plain": [
              "5"
            ]
          },
          "metadata": {
            "tags": []
          },
          "execution_count": 28
        }
      ]
    },
    {
      "cell_type": "markdown",
      "metadata": {
        "id": "v0rGJAp9YaYw"
      },
      "source": [
        "## Mais sobre listas"
      ]
    },
    {
      "cell_type": "markdown",
      "metadata": {
        "id": "-BhBi0K_YiId"
      },
      "source": [
        "### Indexação"
      ]
    },
    {
      "cell_type": "code",
      "metadata": {
        "colab": {
          "base_uri": "https://localhost:8080/",
          "height": 35
        },
        "id": "Pym1MMamYdr8",
        "outputId": "3385761b-141d-47cb-9e31-7cb701123557"
      },
      "source": [
        "pacientes = [\"José\", \"Maria\", \"Jaspion\"]\r\n",
        "pacientes[0]"
      ],
      "execution_count": null,
      "outputs": [
        {
          "output_type": "execute_result",
          "data": {
            "application/vnd.google.colaboratory.intrinsic+json": {
              "type": "string"
            },
            "text/plain": [
              "'José'"
            ]
          },
          "metadata": {
            "tags": []
          },
          "execution_count": 29
        }
      ]
    },
    {
      "cell_type": "code",
      "metadata": {
        "colab": {
          "base_uri": "https://localhost:8080/",
          "height": 35
        },
        "id": "9y3-2Bl_Y28_",
        "outputId": "95d0a344-3530-408b-9c29-27480e0ca156"
      },
      "source": [
        "pacientes[-1]"
      ],
      "execution_count": null,
      "outputs": [
        {
          "output_type": "execute_result",
          "data": {
            "application/vnd.google.colaboratory.intrinsic+json": {
              "type": "string"
            },
            "text/plain": [
              "'Jaspion'"
            ]
          },
          "metadata": {
            "tags": []
          },
          "execution_count": 30
        }
      ]
    },
    {
      "cell_type": "code",
      "metadata": {
        "colab": {
          "base_uri": "https://localhost:8080/"
        },
        "id": "v81T6TquY5G5",
        "outputId": "23d3d8e4-00f1-439c-aa7f-88e821cf6683"
      },
      "source": [
        "pacientes[0:2]"
      ],
      "execution_count": null,
      "outputs": [
        {
          "output_type": "execute_result",
          "data": {
            "text/plain": [
              "['José', 'Maria']"
            ]
          },
          "metadata": {
            "tags": []
          },
          "execution_count": 31
        }
      ]
    },
    {
      "cell_type": "code",
      "metadata": {
        "colab": {
          "base_uri": "https://localhost:8080/"
        },
        "id": "IFoyEkwqZ6VH",
        "outputId": "9e463142-d495-4cec-da2c-af57bd65a22e"
      },
      "source": [
        "lista_de_lista = [5,7,9,[11,13]]\r\n",
        "lista_de_lista[3][0]"
      ],
      "execution_count": null,
      "outputs": [
        {
          "output_type": "execute_result",
          "data": {
            "text/plain": [
              "11"
            ]
          },
          "metadata": {
            "tags": []
          },
          "execution_count": 32
        }
      ]
    },
    {
      "cell_type": "markdown",
      "metadata": {
        "id": "dytU98gkZCgx"
      },
      "source": [
        "### Modificação"
      ]
    },
    {
      "cell_type": "code",
      "metadata": {
        "colab": {
          "base_uri": "https://localhost:8080/"
        },
        "id": "0t9vLiJYY7Ck",
        "outputId": "2c14b456-fa1e-4381-f52f-fe2891c3151d"
      },
      "source": [
        "pacientes[0] = \"Cristiano Ronaldo\"\r\n",
        "pacientes"
      ],
      "execution_count": null,
      "outputs": [
        {
          "output_type": "execute_result",
          "data": {
            "text/plain": [
              "['Cristiano Ronaldo', 'Maria', 'Jaspion']"
            ]
          },
          "metadata": {
            "tags": []
          },
          "execution_count": 33
        }
      ]
    },
    {
      "cell_type": "markdown",
      "metadata": {
        "id": "ARONWiwCZVH3"
      },
      "source": [
        "### Adicionar novo elemento ao final da lista"
      ]
    },
    {
      "cell_type": "code",
      "metadata": {
        "colab": {
          "base_uri": "https://localhost:8080/"
        },
        "id": "EpTnSAB9ZT1A",
        "outputId": "eb7c85b6-c720-4daf-aa1f-da7da8825470"
      },
      "source": [
        "pacientes.append(\"Renato\")\r\n",
        "pacientes"
      ],
      "execution_count": null,
      "outputs": [
        {
          "output_type": "execute_result",
          "data": {
            "text/plain": [
              "['Cristiano Ronaldo', 'Maria', 'Jaspion', 'Renato']"
            ]
          },
          "metadata": {
            "tags": []
          },
          "execution_count": 34
        }
      ]
    },
    {
      "cell_type": "markdown",
      "metadata": {
        "id": "cgY9KavVazDR"
      },
      "source": [
        "### Tamanho"
      ]
    },
    {
      "cell_type": "code",
      "metadata": {
        "colab": {
          "base_uri": "https://localhost:8080/"
        },
        "id": "6Fpy-2i1ayQz",
        "outputId": "8a3fca83-09f2-4ab2-87c7-397e8ef7359a"
      },
      "source": [
        "turma = [\"Harry\", \"Rony\", \"Hermione\"]\r\n",
        "len(turma)"
      ],
      "execution_count": null,
      "outputs": [
        {
          "output_type": "execute_result",
          "data": {
            "text/plain": [
              "3"
            ]
          },
          "metadata": {
            "tags": []
          },
          "execution_count": 35
        }
      ]
    },
    {
      "cell_type": "markdown",
      "metadata": {
        "id": "hUEgsSznbQDn"
      },
      "source": [
        "# Material complementar gratuito"
      ]
    },
    {
      "cell_type": "markdown",
      "metadata": {
        "id": "UlcyUZfKfSeg"
      },
      "source": [
        "## Vídeos\r\n",
        "\r\n",
        "[PT-BR] - [MELHOR FORMA DE APRENDER PYTHON (Google Colab Notebook)](https://youtu.be/Gojqw9BQ5qY)\r\n",
        "\r\n",
        "[PT-BR] - [CURSO RÁPIDO DE PYTHON PARA INICIANTES COM GOOGLE COLAB](https://www.youtube.com/playlist?list=PLCAhGm8nJ9CDV30W-0q8K4xzmGHIXnW6h)\r\n",
        "\r\n",
        "[PT-BR] - [Introdução à Ciência da Computação com Python - USP/Coursera](https://pt.coursera.org/learn/ciencia-computacao-python-conceitos#syllabus)\r\n"
      ]
    },
    {
      "cell_type": "markdown",
      "metadata": {
        "id": "Fzi-nN6FfUV8"
      },
      "source": [
        "## Livros e apostilas\r\n",
        "\r\n",
        "\r\n",
        "\r\n",
        "[PT-BR] - [Computação Científica usando Python: uma introdução a linguagem de programação](https://www.researchgate.net/profile/Rosevaldo_Oliveira/publication/307925106_Computacao_Cientifica_usando_Python_uma_introducao_a_linguagem_de_programacao/links/57d1da0908ae5f03b48abf30/Computacao-Cientifica-usando-Python-uma-introducao-a-linguagem-de-programacao.pdf?_sg%5B0%5D=Dslq70XGv5mSv0-ENharsxeNZ3HSqUSMTG-h15VlE9SbxVhe5x5-F27jtrvK4IVshBl5VJuUW6JBOV0d-eV-Cg.tMGpc2dS72bzma3-awujZ8XYvvqf1UFNw_BwSoxfYnO80u0KGvnLuV3kp_atK0uzuRhRD9QFclWwo79x8x0Pkw&_sg%5B1%5D=5oZUOocfAKFU8t6zoBtcNIS_jrgssdpcuc5BcRcNhqsG5BeQ-Uar3k975GG1FuJ4Tx5WZpCs1yK_IOvamUYD1qp01JoBaYFQNaID9dBtl8j-.tMGpc2dS72bzma3-awujZ8XYvvqf1UFNw_BwSoxfYnO80u0KGvnLuV3kp_atK0uzuRhRD9QFclWwo79x8x0Pkw&_iepl=)\r\n",
        "\r\n",
        "[PT-BR] - [Introdução à Programação com Python](http://antigo.scl.ifsp.edu.br/portal/arquivos/2016.05.04_Apostila_Python_-_PET_ADS_S%C3%A3o_Carlos.pdf)\r\n",
        "\r\n"
      ]
    },
    {
      "cell_type": "markdown",
      "metadata": {
        "id": "YBW8-h3NfWTk"
      },
      "source": [
        "## Outros\r\n",
        "\r\n",
        "[PT-BR] - [Documentação oficial](https://docs.python.org/pt-br/3/)\r\n",
        "\r\n",
        "[EN] - [CS231n Python Tutorial With Google Colab](https://colab.research.google.com/github/cs231n/cs231n.github.io/blob/master/python-colab.ipynb)\r\n",
        "\r\n",
        "[PT-BR] - [Trabalhe com o Python na Nuvem usando o Google Colab](https://minerandodados.com.br/trabalhe-com-o-python-na-nuvem-usando-o-google-colab/)\r\n",
        "\r\n",
        "[EN] - [Google Colab Tutorial](https://www.tutorialspoint.com/google_colab/your_first_colab_notebook.htm)\r\n",
        "\r\n",
        "[EN] - [Python Crash Course](https://colab.research.google.com/drive/12yYLqt1ZjqTObSFhksVLtvnxLBLJzPDA)\r\n",
        "\r\n",
        "[PT-BR] - [Programação de Computadores para Estudantes de Biologia](https://github.com/pedrosiracusa/curso_intro_prog_biol/tree/verao_lncc_2019/aulas)"
      ]
    }
  ]
}